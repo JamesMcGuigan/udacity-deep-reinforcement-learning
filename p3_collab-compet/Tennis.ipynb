{
 "cells": [
  {
   "cell_type": "markdown",
   "metadata": {},
   "source": [
    "# Collaboration and Competition\n",
    "\n",
    "---\n",
    "\n",
    "In this notebook, you will learn how to use the Unity ML-Agents environment for the third project of the [Deep Reinforcement Learning Nanodegree](https://www.udacity.com/course/deep-reinforcement-learning-nanodegree--nd893) program.\n",
    "\n",
    "### 1. Start the Environment\n",
    "\n",
    "We begin by importing the necessary packages.  If the code cell below returns an error, please revisit the project instructions to double-check that you have installed [Unity ML-Agents](https://github.com/Unity-Technologies/ml-agents/blob/master/docs/Installation.md) and [NumPy](http://www.numpy.org/)."
   ]
  },
  {
   "cell_type": "code",
   "metadata": {
    "ExecuteTime": {
     "end_time": "2025-07-27T09:56:25.391965Z",
     "start_time": "2025-07-27T09:56:25.389195Z"
    }
   },
   "source": [
    "import os\n",
    "os.environ['DISPLAY'] = \":0\"  # Forum reports this as bugfix"
   ],
   "outputs": [],
   "execution_count": 4
  },
  {
   "cell_type": "markdown",
   "metadata": {},
   "source": [
    "Next, we will start the environment!  **_Before running the code cell below_**, change the `file_name` parameter to match the location of the Unity environment that you downloaded.\n",
    "\n",
    "- **Mac**: `\"path/to/Tennis.app\"`\n",
    "- **Windows** (x86): `\"path/to/Tennis_Windows_x86/Tennis.exe\"`\n",
    "- **Windows** (x86_64): `\"path/to/Tennis_Windows_x86_64/Tennis.exe\"`\n",
    "- **Linux** (x86): `\"path/to/Tennis_Linux/Tennis.x86\"`\n",
    "- **Linux** (x86_64): `\"path/to/Tennis_Linux/Tennis.x86_64\"`\n",
    "- **Linux** (x86, headless): `\"path/to/Tennis_Linux_NoVis/Tennis.x86\"`\n",
    "- **Linux** (x86_64, headless): `\"path/to/Tennis_Linux_NoVis/Tennis.x86_64\"`\n",
    "\n",
    "For instance, if you are using a Mac, then you downloaded `Tennis.app`.  If this file is in the same folder as the notebook, then the line below should appear as follows:\n",
    "```\n",
    "env = UnityEnvironment(file_name=\"Tennis.app\")\n",
    "```"
   ]
  },
  {
   "cell_type": "code",
   "metadata": {
    "ExecuteTime": {
     "end_time": "2025-07-27T09:57:26.501519Z",
     "start_time": "2025-07-27T09:56:26.342971Z"
    }
   },
   "source": [
    "# from unityagents import UnityEnvironment\n",
    "from mlagents_envs.environment import UnityEnvironment\n",
    "import numpy as np\n",
    "import platform\n",
    "\n",
    "# if platform.system() == 'Linux':\n",
    "#     #env = UnityEnvironment(file_name='./Reacher_One_Linux_NoVis/Reacher_One_Linux_NoVis.x86_64')\n",
    "#     env = UnityEnvironment(file_name='./Tennis_Linux/Tennis.x86_64')\n",
    "# elif platform.system() == 'Darwin':\n",
    "#     env = UnityEnvironment(file_name='./Tennis.app')\n",
    "# env\n",
    "\n",
    "\n",
    "# https://github.com/rhemon/p3_CollaborationCompetition/blob/master/Report.ipynb\n",
    "env = UnityEnvironment(file_name='Tennis/Tennis.exe')\n",
    "brain_name = env.brain_names[0]\n",
    "brain = env.brains[brain_name]\n",
    "env_info = env.reset(train_mode=False)[brain_name] # set False if you wish to visualize the environment\n",
    "action_size = brain.vector_action_space_size\n",
    "states = env_info.vector_observations\n",
    "state_size = states.shape[1]"
   ],
   "outputs": [
    {
     "name": "stdout",
     "output_type": "stream",
     "text": [
      "Found path: /home/jamie/code/udacity-deep-reinforcement-learning/p3_collab-compet/./Tennis_Linux/Tennis.x86_64\n",
      "Mono path[0] = '/home/jamie/code/udacity-deep-reinforcement-learning/p3_collab-compet/./Tennis_Linux/Tennis_Data/Managed'\n",
      "Mono config path = '/home/jamie/code/udacity-deep-reinforcement-learning/p3_collab-compet/./Tennis_Linux/Tennis_Data/MonoBleedingEdge/etc'\n",
      "Preloaded 'ScreenSelector.so'\n",
      "Preloaded 'libgrpc_csharp_ext.x64.so'\n",
      "Unable to preload the following plugins:\n",
      "\tScreenSelector.so\n",
      "\tlibgrpc_csharp_ext.x86.so\n",
      "Logging to /home/jamie/.config/unity3d/Unity Technologies/Unity Environment/Player.log\n",
      "[WARNING] Environment timed out shutting down. Killing...\n"
     ]
    },
    {
     "ename": "UnityTimeOutException",
     "evalue": "The Unity environment took too long to respond. Make sure that :\n\t The environment does not need user interaction to launch\n\t The Agents' Behavior Parameters > Behavior Type is set to \"Default\"\n\t The environment and the Python interface have compatible versions.\n\t If you're running on a headless server without graphics support, turn off display by either passing --no-graphics option or build your Unity executable as server build.",
     "output_type": "error",
     "traceback": [
      "\u001B[31m---------------------------------------------------------------------------\u001B[39m",
      "\u001B[31mUnityTimeOutException\u001B[39m                     Traceback (most recent call last)",
      "\u001B[36mCell\u001B[39m\u001B[36m \u001B[39m\u001B[32mIn[5]\u001B[39m\u001B[32m, line 8\u001B[39m\n\u001B[32m      4\u001B[39m \u001B[38;5;28;01mimport\u001B[39;00m\u001B[38;5;250m \u001B[39m\u001B[34;01mplatform\u001B[39;00m\n\u001B[32m      6\u001B[39m \u001B[38;5;28;01mif\u001B[39;00m platform.system() == \u001B[33m'\u001B[39m\u001B[33mLinux\u001B[39m\u001B[33m'\u001B[39m:\n\u001B[32m      7\u001B[39m     \u001B[38;5;66;03m#env = UnityEnvironment(file_name='./Reacher_One_Linux_NoVis/Reacher_One_Linux_NoVis.x86_64')\u001B[39;00m\n\u001B[32m----> \u001B[39m\u001B[32m8\u001B[39m     env = UnityEnvironment(file_name=\u001B[33m'\u001B[39m\u001B[33m./Tennis_Linux/Tennis.x86_64\u001B[39m\u001B[33m'\u001B[39m)\n\u001B[32m      9\u001B[39m \u001B[38;5;28;01melif\u001B[39;00m platform.system() == \u001B[33m'\u001B[39m\u001B[33mDarwin\u001B[39m\u001B[33m'\u001B[39m:\n\u001B[32m     10\u001B[39m     env = UnityEnvironment(file_name=\u001B[33m'\u001B[39m\u001B[33m./Tennis.app\u001B[39m\u001B[33m'\u001B[39m)\n",
      "\u001B[36mFile \u001B[39m\u001B[32m~/miniconda3/envs/gymnasium/lib/python3.12/site-packages/mlagents_envs/environment.py:236\u001B[39m, in \u001B[36mUnityEnvironment.__init__\u001B[39m\u001B[34m(self, file_name, worker_id, base_port, seed, no_graphics, timeout_wait, additional_args, side_channels, log_folder, num_areas)\u001B[39m\n\u001B[32m    228\u001B[39m rl_init_parameters_in = UnityRLInitializationInputProto(\n\u001B[32m    229\u001B[39m     seed=seed,\n\u001B[32m    230\u001B[39m     communication_version=\u001B[38;5;28mself\u001B[39m.API_VERSION,\n\u001B[32m   (...)\u001B[39m\u001B[32m    233\u001B[39m     num_areas=num_areas,\n\u001B[32m    234\u001B[39m )\n\u001B[32m    235\u001B[39m \u001B[38;5;28;01mtry\u001B[39;00m:\n\u001B[32m--> \u001B[39m\u001B[32m236\u001B[39m     aca_output = \u001B[38;5;28mself\u001B[39m._send_academy_parameters(rl_init_parameters_in)\n\u001B[32m    237\u001B[39m     aca_params = aca_output.rl_initialization_output\n\u001B[32m    238\u001B[39m \u001B[38;5;28;01mexcept\u001B[39;00m UnityTimeOutException:\n",
      "\u001B[36mFile \u001B[39m\u001B[32m~/miniconda3/envs/gymnasium/lib/python3.12/site-packages/mlagents_envs/environment.py:492\u001B[39m, in \u001B[36mUnityEnvironment._send_academy_parameters\u001B[39m\u001B[34m(self, init_parameters)\u001B[39m\n\u001B[32m    490\u001B[39m inputs = UnityInputProto()\n\u001B[32m    491\u001B[39m inputs.rl_initialization_input.CopyFrom(init_parameters)\n\u001B[32m--> \u001B[39m\u001B[32m492\u001B[39m \u001B[38;5;28;01mreturn\u001B[39;00m \u001B[38;5;28mself\u001B[39m._communicator.initialize(inputs, \u001B[38;5;28mself\u001B[39m._poll_process)\n",
      "\u001B[36mFile \u001B[39m\u001B[32m~/miniconda3/envs/gymnasium/lib/python3.12/site-packages/mlagents_envs/rpc_communicator.py:126\u001B[39m, in \u001B[36mRpcCommunicator.initialize\u001B[39m\u001B[34m(self, inputs, poll_callback)\u001B[39m\n\u001B[32m    123\u001B[39m \u001B[38;5;28;01mdef\u001B[39;00m\u001B[38;5;250m \u001B[39m\u001B[34minitialize\u001B[39m(\n\u001B[32m    124\u001B[39m     \u001B[38;5;28mself\u001B[39m, inputs: UnityInputProto, poll_callback: Optional[PollCallback] = \u001B[38;5;28;01mNone\u001B[39;00m\n\u001B[32m    125\u001B[39m ) -> UnityOutputProto:\n\u001B[32m--> \u001B[39m\u001B[32m126\u001B[39m     \u001B[38;5;28mself\u001B[39m.poll_for_timeout(poll_callback)\n\u001B[32m    127\u001B[39m     aca_param = \u001B[38;5;28mself\u001B[39m.unity_to_external.parent_conn.recv().unity_output\n\u001B[32m    128\u001B[39m     message = UnityMessageProto()\n",
      "\u001B[36mFile \u001B[39m\u001B[32m~/miniconda3/envs/gymnasium/lib/python3.12/site-packages/mlagents_envs/rpc_communicator.py:114\u001B[39m, in \u001B[36mRpcCommunicator.poll_for_timeout\u001B[39m\u001B[34m(self, poll_callback)\u001B[39m\n\u001B[32m    111\u001B[39m         poll_callback()\n\u001B[32m    113\u001B[39m \u001B[38;5;66;03m# Got this far without reading any data from the connection, so it must be dead.\u001B[39;00m\n\u001B[32m--> \u001B[39m\u001B[32m114\u001B[39m \u001B[38;5;28;01mraise\u001B[39;00m UnityTimeOutException(\n\u001B[32m    115\u001B[39m     \u001B[33m\"\u001B[39m\u001B[33mThe Unity environment took too long to respond. Make sure that :\u001B[39m\u001B[38;5;130;01m\\n\u001B[39;00m\u001B[33m\"\u001B[39m\n\u001B[32m    116\u001B[39m     \u001B[33m\"\u001B[39m\u001B[38;5;130;01m\\t\u001B[39;00m\u001B[33m The environment does not need user interaction to launch\u001B[39m\u001B[38;5;130;01m\\n\u001B[39;00m\u001B[33m\"\u001B[39m\n\u001B[32m    117\u001B[39m     \u001B[33m'\u001B[39m\u001B[38;5;130;01m\\t\u001B[39;00m\u001B[33m The Agents\u001B[39m\u001B[38;5;130;01m\\'\u001B[39;00m\u001B[33m Behavior Parameters > Behavior Type is set to \u001B[39m\u001B[33m\"\u001B[39m\u001B[33mDefault\u001B[39m\u001B[33m\"\u001B[39m\u001B[38;5;130;01m\\n\u001B[39;00m\u001B[33m'\u001B[39m\n\u001B[32m    118\u001B[39m     \u001B[33m\"\u001B[39m\u001B[38;5;130;01m\\t\u001B[39;00m\u001B[33m The environment and the Python interface have compatible versions.\u001B[39m\u001B[38;5;130;01m\\n\u001B[39;00m\u001B[33m\"\u001B[39m\n\u001B[32m    119\u001B[39m     \u001B[33m\"\u001B[39m\u001B[38;5;130;01m\\t\u001B[39;00m\u001B[33m If you\u001B[39m\u001B[33m'\u001B[39m\u001B[33mre running on a headless server without graphics support, turn off display \u001B[39m\u001B[33m\"\u001B[39m\n\u001B[32m    120\u001B[39m     \u001B[33m\"\u001B[39m\u001B[33mby either passing --no-graphics option or build your Unity executable as server build.\u001B[39m\u001B[33m\"\u001B[39m\n\u001B[32m    121\u001B[39m )\n",
      "\u001B[31mUnityTimeOutException\u001B[39m: The Unity environment took too long to respond. Make sure that :\n\t The environment does not need user interaction to launch\n\t The Agents' Behavior Parameters > Behavior Type is set to \"Default\"\n\t The environment and the Python interface have compatible versions.\n\t If you're running on a headless server without graphics support, turn off display by either passing --no-graphics option or build your Unity executable as server build."
     ]
    }
   ],
   "execution_count": 5
  },
  {
   "cell_type": "markdown",
   "metadata": {},
   "source": [
    "Environments contain **_brains_** which are responsible for deciding the actions of their associated agents. Here we check for the first brain available, and set it as the default brain we will be controlling from Python."
   ]
  },
  {
   "cell_type": "code",
   "metadata": {
    "ExecuteTime": {
     "end_time": "2025-07-22T16:06:46.050239Z",
     "start_time": "2025-07-22T16:06:46.022852Z"
    }
   },
   "source": [
    "# get the default brain\n",
    "brain_name = env.brain_names[0]\n",
    "brain = env.brains[brain_name]"
   ],
   "outputs": [
    {
     "ename": "NameError",
     "evalue": "name 'env' is not defined",
     "output_type": "error",
     "traceback": [
      "\u001B[31m---------------------------------------------------------------------------\u001B[39m",
      "\u001B[31mNameError\u001B[39m                                 Traceback (most recent call last)",
      "\u001B[36mCell\u001B[39m\u001B[36m \u001B[39m\u001B[32mIn[10]\u001B[39m\u001B[32m, line 2\u001B[39m\n\u001B[32m      1\u001B[39m \u001B[38;5;66;03m# get the default brain\u001B[39;00m\n\u001B[32m----> \u001B[39m\u001B[32m2\u001B[39m brain_name = env.brain_names[\u001B[32m0\u001B[39m]\n\u001B[32m      3\u001B[39m brain = env.brains[brain_name]\n",
      "\u001B[31mNameError\u001B[39m: name 'env' is not defined"
     ]
    }
   ],
   "execution_count": 10
  },
  {
   "cell_type": "markdown",
   "metadata": {},
   "source": [
    "### 2. Examine the State and Action Spaces\n",
    "\n",
    "In this environment, two agents control rackets to bounce a ball over a net. If an agent hits the ball over the net, it receives a reward of +0.1.  If an agent lets a ball hit the ground or hits the ball out of bounds, it receives a reward of -0.01.  Thus, the goal of each agent is to keep the ball in play.\n",
    "\n",
    "The observation space consists of 8 variables corresponding to the position and velocity of the ball and racket. Two continuous actions are available, corresponding to movement toward (or away from) the net, and jumping. \n",
    "\n",
    "Run the code cell below to print some information about the environment."
   ]
  },
  {
   "cell_type": "code",
   "metadata": {
    "ExecuteTime": {
     "end_time": "2025-07-22T16:06:48.447703Z",
     "start_time": "2025-07-22T16:06:48.410449Z"
    }
   },
   "source": [
    "# reset the environment\n",
    "env_info = env.reset(train_mode=True)[brain_name]\n",
    "\n",
    "# number of agents \n",
    "num_agents = len(env_info.agents)\n",
    "print('Number of agents:', num_agents)\n",
    "\n",
    "# size of each action\n",
    "action_size = brain.vector_action_space_size\n",
    "print('Size of each action:', action_size)\n",
    "\n",
    "# examine the state space \n",
    "states = env_info.vector_observations\n",
    "state_size = states.shape[1]\n",
    "print('There are {} agents. Each observes a state with length: {}'.format(states.shape[0], state_size))\n",
    "print('The state for the first agent looks like:', states[0])"
   ],
   "outputs": [
    {
     "ename": "NameError",
     "evalue": "name 'env' is not defined",
     "output_type": "error",
     "traceback": [
      "\u001B[31m---------------------------------------------------------------------------\u001B[39m",
      "\u001B[31mNameError\u001B[39m                                 Traceback (most recent call last)",
      "\u001B[36mCell\u001B[39m\u001B[36m \u001B[39m\u001B[32mIn[11]\u001B[39m\u001B[32m, line 2\u001B[39m\n\u001B[32m      1\u001B[39m \u001B[38;5;66;03m# reset the environment\u001B[39;00m\n\u001B[32m----> \u001B[39m\u001B[32m2\u001B[39m env_info = env.reset(train_mode=\u001B[38;5;28;01mTrue\u001B[39;00m)[brain_name]\n\u001B[32m      4\u001B[39m \u001B[38;5;66;03m# number of agents \u001B[39;00m\n\u001B[32m      5\u001B[39m num_agents = \u001B[38;5;28mlen\u001B[39m(env_info.agents)\n",
      "\u001B[31mNameError\u001B[39m: name 'env' is not defined"
     ]
    }
   ],
   "execution_count": 11
  },
  {
   "cell_type": "markdown",
   "metadata": {},
   "source": [
    "### 3. Take Random Actions in the Environment\n",
    "\n",
    "In the next code cell, you will learn how to use the Python API to control the agents and receive feedback from the environment.\n",
    "\n",
    "Once this cell is executed, you will watch the agents' performance, if they select actions at random with each time step.  A window should pop up that allows you to observe the agents.\n",
    "\n",
    "Of course, as part of the project, you'll have to change the code so that the agents are able to use their experiences to gradually choose better actions when interacting with the environment!"
   ]
  },
  {
   "cell_type": "code",
   "execution_count": null,
   "metadata": {},
   "outputs": [],
   "source": [
    "for i in range(1, 6):                                      # play game for 5 episodes\n",
    "    env_info = env.reset(train_mode=False)[brain_name]     # reset the environment    \n",
    "    states = env_info.vector_observations                  # get the current state (for each agent)\n",
    "    scores = np.zeros(num_agents)                          # initialize the score (for each agent)\n",
    "    while True:\n",
    "        actions = np.random.randn(num_agents, action_size) # select an action (for each agent)\n",
    "        actions = np.clip(actions, -1, 1)                  # all actions between -1 and 1\n",
    "        env_info = env.step(actions)[brain_name]           # send all actions to tne environment\n",
    "        next_states = env_info.vector_observations         # get next state (for each agent)\n",
    "        rewards = env_info.rewards                         # get reward (for each agent)\n",
    "        dones = env_info.local_done                        # see if episode finished\n",
    "        scores += env_info.rewards                         # update the score (for each agent)\n",
    "        states = next_states                               # roll over states to next time step\n",
    "        if np.any(dones):                                  # exit loop if episode finished\n",
    "            break\n",
    "    print('Score (max over agents) from episode {}: {}'.format(i, np.max(scores)))"
   ]
  },
  {
   "cell_type": "markdown",
   "metadata": {},
   "source": [
    "When finished, you can close the environment."
   ]
  },
  {
   "cell_type": "code",
   "execution_count": null,
   "metadata": {},
   "outputs": [],
   "source": [
    "env.close()"
   ]
  },
  {
   "cell_type": "markdown",
   "metadata": {},
   "source": [
    "### 4. It's Your Turn!\n",
    "\n",
    "Now it's your turn to train your own agent to solve the environment!  When training the environment, set `train_mode=True`, so that the line for resetting the environment looks like the following:\n",
    "```python\n",
    "env_info = env.reset(train_mode=True)[brain_name]\n",
    "```"
   ]
  }
 ],
 "metadata": {
  "kernelspec": {
   "display_name": "Python 3",
   "language": "python",
   "name": "python3"
  },
  "language_info": {
   "codemirror_mode": {
    "name": "ipython",
    "version": 3
   },
   "file_extension": ".py",
   "mimetype": "text/x-python",
   "name": "python",
   "nbconvert_exporter": "python",
   "pygments_lexer": "ipython3",
   "version": "3.6.4"
  }
 },
 "nbformat": 4,
 "nbformat_minor": 2
}
