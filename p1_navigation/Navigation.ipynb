{
 "cells": [
  {
   "cell_type": "markdown",
   "metadata": {},
   "source": [
    "# Navigation\n",
    "\n",
    "\n",
    "# Install Dependencies\n",
    "\n",
    "Install Banana\n",
    "```\n",
    "cd p1_navigation\n",
    "wget https://s3-us-west-1.amazonaws.com/udacity-drlnd/P1/Banana/Banana_Linux.zip\n",
    "unzip Banana_Linux.zip\n",
    "```\n",
    "\n",
    "Install mujoco200\n",
    "- https://www.roboti.us/index.html\n",
    "- https://medium.com/@chinmayburgul/setting-up-mujoco200-on-linux-16-04-18-04-38e5a3524c85\n",
    "\n",
    "```\n",
    "cd p1_navigation\n",
    "lynx https://www.roboti.us/index.html\n",
    "wget https://www.roboti.us/download/mujoco200_linux.zip\n",
    "unzip ~/Downloads/mujoco200_linux.zip\n",
    "mkdir ~/.mujoco\n",
    "mv ~/Downloads/mujoco200_linux.zip ~/.mujoco/\n",
    "cd ~/.mujoco/\n",
    "unzip mujoco200_linux.zip\n",
    "cd mujoco200_linux/\n",
    "mv ~/Downloads/LICENSE.txt ~/.mujoco/\n",
    "mv ~/Downloads/mjkey.txt   ~/.mujoco/\n",
    "```\n",
    "\n",
    "Install python dependencies\n",
    "```\n",
    "cd p1_navigation\n",
    "conda create --name drlnd python=3.6\n",
    "conda activate drlnd\n",
    "pip install -r p1_navigation/requirements.txt\n",
    "python -m ipykernel install --user --name drlnd --display-name \"drlnd\"\n",
    "```\n",
    "\n",
    "---\n",
    "\n",
    "In this notebook, you will learn how to use the Unity ML-Agents environment for the first project of the [Deep Reinforcement Learning Nanodegree](https://www.udacity.com/course/deep-reinforcement-learning-nanodegree--nd893).\n",
    "\n",
    "### 1. Start the Environment\n",
    "\n",
    "We begin by importing some necessary packages.  If the code cell below returns an error, please revisit the project instructions to double-check that you have installed [Unity ML-Agents](https://github.com/Unity-Technologies/ml-agents/blob/master/docs/Installation.md) and [NumPy](http://www.numpy.org/)."
   ]
  },
  {
   "cell_type": "code",
   "execution_count": 1,
   "metadata": {},
   "outputs": [],
   "source": [
    "from matplotlib import pyplot as plt\n",
    "from unityagents import UnityEnvironment\n",
    "import numpy as np"
   ]
  },
  {
   "cell_type": "markdown",
   "metadata": {},
   "source": [
    " Next, we will start the environment!  **_Before running the code cell below_**, change the `file_name` parameter to match the location of the Unity environment that you downloaded.\n",
    "\n",
    "- **Mac**: `\"path/to/Banana.app\"`\n",
    "- **Windows** (x86): `\"path/to/Banana_Windows_x86/Banana.exe\"`\n",
    "- **Windows** (x86_64): `\"path/to/Banana_Windows_x86_64/Banana.exe\"`\n",
    "- **Linux** (x86): `\"path/to/Banana_Linux/Banana.x86\"`\n",
    "- **Linux** (x86_64): `\"path/to/Banana_Linux/Banana.x86_64\"`\n",
    "- **Linux** (x86, headless): `\"path/to/Banana_Linux_NoVis/Banana.x86\"`\n",
    "- **Linux** (x86_64, headless): `\"path/to/Banana_Linux_NoVis/Banana.x86_64\"`\n",
    "\n",
    "For instance, if you are using a Mac, then you downloaded `Banana.app`.  If this file is in the same folder as the notebook, then the line below should appear as follows:\n",
    "```\n",
    "env = UnityEnvironment(file_name=\"Banana.app\")\n",
    "```"
   ]
  },
  {
   "cell_type": "code",
   "execution_count": 2,
   "metadata": {},
   "outputs": [
    {
     "name": "stderr",
     "output_type": "stream",
     "text": [
      "INFO:unityagents:\n",
      "'Academy' started successfully!\n",
      "Unity Academy name: Academy\n",
      "        Number of Brains: 1\n",
      "        Number of External Brains : 1\n",
      "        Lesson number : 0\n",
      "        Reset Parameters :\n",
      "\t\t\n",
      "Unity brain name: BananaBrain\n",
      "        Number of Visual Observations (per agent): 0\n",
      "        Vector Observation space type: continuous\n",
      "        Vector Observation space size (per agent): 37\n",
      "        Number of stacked Vector Observation: 1\n",
      "        Vector Action space type: discrete\n",
      "        Vector Action space size (per agent): 4\n",
      "        Vector Action descriptions: , , , \n"
     ]
    }
   ],
   "source": [
    "# from dqn_agent import Agent\n",
    "# from train import train_dqn\n",
    "from src.dqn_agent import DQNAgent\n",
    "from src.model import QNetwork, DuelingQNetwork\n",
    "from src.train import train_dqn\n",
    "\n",
    "env = UnityEnvironment(file_name=\"./Banana_Linux/Banana.x86_64\")"
   ]
  },
  {
   "cell_type": "markdown",
   "metadata": {},
   "source": [
    "Environments contain **_brains_** which are responsible for deciding the actions of their associated agents. Here we check for the first brain available, and set it as the default brain we will be controlling from Python."
   ]
  },
  {
   "cell_type": "code",
   "execution_count": 3,
   "metadata": {},
   "outputs": [],
   "source": [
    "# get the default brain\n",
    "brain_name = env.brain_names[0]\n",
    "brain = env.brains[brain_name]"
   ]
  },
  {
   "cell_type": "markdown",
   "metadata": {},
   "source": [
    "### 2. Examine the State and Action Spaces\n",
    "\n",
    "The simulation contains a single agent that navigates a large environment.  At each time step, it has four actions at its disposal:\n",
    "- `0` - walk forward \n",
    "- `1` - walk backward\n",
    "- `2` - turn left\n",
    "- `3` - turn right\n",
    "\n",
    "The state space has `37` dimensions and contains the agent's velocity, along with ray-based perception of objects around agent's forward direction.  A reward of `+1` is provided for collecting a yellow banana, and a reward of `-1` is provided for collecting a blue banana. \n",
    "\n",
    "Run the code cell below to print some information about the environment."
   ]
  },
  {
   "cell_type": "code",
   "execution_count": 4,
   "metadata": {},
   "outputs": [
    {
     "name": "stdout",
     "output_type": "stream",
     "text": [
      "Number of agents: 1\n",
      "Number of actions: 4\n",
      "States look like: [1.         0.         0.         0.         0.84408134 0.\n",
      " 0.         1.         0.         0.0748472  0.         1.\n",
      " 0.         0.         0.25755    1.         0.         0.\n",
      " 0.         0.74177343 0.         1.         0.         0.\n",
      " 0.25854847 0.         0.         1.         0.         0.09355672\n",
      " 0.         1.         0.         0.         0.31969345 0.\n",
      " 0.        ]\n",
      "States have length: 37\n"
     ]
    }
   ],
   "source": [
    "# reset the environment\n",
    "env_info = env.reset(train_mode=True)[brain_name]\n",
    "\n",
    "# number of agents in the environment\n",
    "print('Number of agents:', len(env_info.agents))\n",
    "\n",
    "# number of actions\n",
    "action_size = brain.vector_action_space_size\n",
    "print('Number of actions:', action_size)\n",
    "\n",
    "# examine the state space \n",
    "state = env_info.vector_observations[0]\n",
    "print('States look like:', state)\n",
    "state_size = len(state)\n",
    "print('States have length:', state_size)"
   ]
  },
  {
   "cell_type": "markdown",
   "metadata": {},
   "source": [
    "### 3. Take Random Actions in the Environment\n",
    "\n",
    "In the next code cell, you will learn how to use the Python API to control the agent and receive feedback from the environment.\n",
    "\n",
    "Once this cell is executed, you will watch the agent's performance, if it selects an action (uniformly) at random with each time step.  A window should pop up that allows you to observe the agent, as it moves through the environment.  \n",
    "\n",
    "Of course, as part of the project, you'll have to change the code so that the agent is able to use its experience to gradually choose better actions when interacting with the environment!"
   ]
  },
  {
   "cell_type": "code",
   "execution_count": 5,
   "metadata": {},
   "outputs": [
    {
     "name": "stdout",
     "output_type": "stream",
     "text": [
      "Score: 0.0\n"
     ]
    }
   ],
   "source": [
    "aenv_info = env.reset(train_mode=False)[brain_name] # reset the environment\n",
    "state = env_info.vector_observations[0]             # get the current state\n",
    "score = 0                                           # initialize the score\n",
    "while True:\n",
    "    action     = np.random.randint(action_size)     # select an action\n",
    "    env_info   = env.step(action)[brain_name]       # send the action to the environment\n",
    "    next_state = env_info.vector_observations[0]    # get the next state\n",
    "    reward     = env_info.rewards[0]                # get the reward\n",
    "    done       = env_info.local_done[0]             # see if episode has finished\n",
    "    score     += reward                             # update the score\n",
    "    state      = next_state                         # roll over the state to next time step\n",
    "    if done:                                        # exit loop if episode finished\n",
    "        break\n",
    "    \n",
    "print(\"Score: {}\".format(score))\n"
   ]
  },
  {
   "cell_type": "markdown",
   "metadata": {
    "pycharm": {
     "name": "#%% md\n"
    }
   },
   "source": [
    "### 4. It's Your Turn!\n",
    "\n",
    "Now it's your turn to train your own agent to solve the environment!  A few **important notes**:\n",
    "- When training the environment, set `train_mode=True`, so that the line for resetting the environment looks like the following:\n",
    "```python\n",
    "env_info = env.reset(train_mode=True)[brain_name]\n",
    "```\n",
    "- To structure your work, you're welcome to work directly in this Jupyter notebook, or you might like to start over with a new file!  You can see the list of files in the workspace by clicking on **_Jupyter_** in the top left corner of the notebook.\n",
    "- In this coding environment, you will not be able to watch the agent while it is training.  However, **_after training the agent_**, you can download the saved model weights to watch the agent on your own machine!\n",
    "\n",
    "\n",
    "### Basic DQN\n",
    "**NOTE: See ./src/ directory for source code**"
   ]
  },
  {
   "cell_type": "code",
   "execution_count": 6,
   "outputs": [
    {
     "name": "stdout",
     "output_type": "stream",
     "text": [
      "train_dqn( {'obs_attr': 'vector_observations', 'n_episodes': 2000, 'max_t': 100, 'eps_start': 1.0, 'eps_end': 0.01, 'eps_decay': 0.995, 'score_window_size': 100, 'win_score': 13, 'exit_after_first_reward': False, 'future_reward_decay': 0} )\n",
      "Episode  100\tAverage Score: 0.042\n",
      "Episode  200\tAverage Score: 0.31\n",
      "Episode  300\tAverage Score: 0.84\n",
      "Episode  400\tAverage Score: 1.64\n",
      "Episode  500\tAverage Score: 2.42\n",
      "Episode  600\tAverage Score: 3.01\n",
      "Episode  700\tAverage Score: 3.64\n",
      "Episode  800\tAverage Score: 3.76\n",
      "Episode  900\tAverage Score: 4.05\n",
      "Episode 1000\tAverage Score: 4.24\n",
      "Episode 1100\tAverage Score: 4.59\n",
      "Episode 1200\tAverage Score: 4.87\n",
      "Episode 1300\tAverage Score: 4.85\n",
      "Episode 1400\tAverage Score: 5.15\n",
      "Episode 1500\tAverage Score: 5.21\n",
      "Episode 1600\tAverage Score: 5.36\n",
      "Episode 1700\tAverage Score: 5.43\n",
      "Episode 1800\tAverage Score: 5.28\n",
      "Episode 1900\tAverage Score: 4.89\n",
      "Episode 2000\tAverage Score: 5.49\n"
     ]
    },
    {
     "data": {
      "text/plain": "<Figure size 432x288 with 1 Axes>",
      "image/png": "[encoded data removed]"
     },
     "metadata": {
      "needs_background": "light"
     },
     "output_type": "display_data"
    }
   ],
   "source": [
    "\n",
    "if __name__ == '__main__':\n",
    "    # env   = UnityEnvironment(file_name=\"./Banana_Linux/Banana.x86_64\")\n",
    "    state_size, action_size = DQNAgent.get_env_state_action_size(env)  #  state_size == 37, action_size == 4\n",
    "\n",
    "    scores    = []\n",
    "    modelname = f'dqn'\n",
    "    agent     = DQNAgent(state_size, action_size, model_class=QNetwork)\n",
    "    scores = train_dqn(\n",
    "        env,\n",
    "        agent,\n",
    "        n_episodes=2000,\n",
    "        filename=f'models/{modelname}.pth'\n",
    "    )\n",
    "\n",
    "    # plot the scores\n",
    "    fig = plt.figure()\n",
    "    ax = fig.add_subplot(111)\n",
    "    plt.plot(np.arange(len(scores)), scores)\n",
    "    plt.title('Plot of Rewards')\n",
    "    plt.ylabel('Score')\n",
    "    plt.xlabel('Episode #')\n",
    "    plt.savefig(f'models/{modelname}.png', bbox_inches='tight')\n",
    "    plt.show()"
   ],
   "metadata": {
    "collapsed": false,
    "pycharm": {
     "name": "#%%\n"
    }
   }
  },
  {
   "cell_type": "markdown",
   "source": [
    "Average score converges to about 5, with a maximum score of 11\n",
    "\n",
    "### Dueling DQN"
   ],
   "metadata": {
    "collapsed": false,
    "pycharm": {
     "name": "#%% md\n"
    }
   }
  },
  {
   "cell_type": "code",
   "execution_count": 7,
   "outputs": [
    {
     "name": "stdout",
     "output_type": "stream",
     "text": [
      "train_dqn( {'obs_attr': 'vector_observations', 'n_episodes': 2000, 'max_t': 100, 'eps_start': 1.0, 'eps_end': 0.01, 'eps_decay': 0.995, 'score_window_size': 100, 'win_score': 13, 'exit_after_first_reward': False, 'future_reward_decay': 0} )\n",
      "Episode  100\tAverage Score: 0.227\n",
      "Episode  200\tAverage Score: 0.31\n",
      "Episode  300\tAverage Score: 1.37\n",
      "Episode  400\tAverage Score: 1.92\n",
      "Episode  500\tAverage Score: 2.28\n",
      "Episode  600\tAverage Score: 3.16\n",
      "Episode  700\tAverage Score: 3.72\n",
      "Episode  800\tAverage Score: 4.08\n",
      "Episode  900\tAverage Score: 4.31\n",
      "Episode 1000\tAverage Score: 4.67\n",
      "Episode 1100\tAverage Score: 4.87\n",
      "Episode 1200\tAverage Score: 5.17\n",
      "Episode 1300\tAverage Score: 5.46\n",
      "Episode 1400\tAverage Score: 5.39\n",
      "Episode 1500\tAverage Score: 5.34\n",
      "Episode 1600\tAverage Score: 5.49\n",
      "Episode 1700\tAverage Score: 5.69\n",
      "Episode 1800\tAverage Score: 5.14\n",
      "Episode 1900\tAverage Score: 5.65\n",
      "Episode 2000\tAverage Score: 5.52\n"
     ]
    },
    {
     "data": {
      "text/plain": "<Figure size 432x288 with 1 Axes>",
      "image/png": "[encoded data removed]"
     },
     "metadata": {
      "needs_background": "light"
     },
     "output_type": "display_data"
    }
   ],
   "source": [
    "if __name__ == '__main__':\n",
    "    # env   = UnityEnvironment(file_name=\"./Banana_Linux/Banana.x86_64\")\n",
    "    state_size, action_size = DQNAgent.get_env_state_action_size(env)  #  state_size == 37, action_size == 4\n",
    "\n",
    "    scores    = []\n",
    "    modelname = f'dueling_dqn'\n",
    "    agent     = DQNAgent(state_size, action_size, model_class=DuelingQNetwork)\n",
    "    scores = train_dqn(\n",
    "        env,\n",
    "        agent,\n",
    "        n_episodes=2000,\n",
    "        filename=f'models/{modelname}.pth'\n",
    "    )\n",
    "\n",
    "    # plot the scores\n",
    "    fig = plt.figure()\n",
    "    ax = fig.add_subplot(111)\n",
    "    plt.plot(np.arange(len(scores)), scores)\n",
    "    plt.title('Plot of Rewards')\n",
    "    plt.ylabel('Score')\n",
    "    plt.xlabel('Episode #')\n",
    "    plt.savefig(f'models/{modelname}.png', bbox_inches='tight')\n",
    "    plt.show()"
   ],
   "metadata": {
    "collapsed": false,
    "pycharm": {
     "name": "#%%\n"
    }
   }
  },
  {
   "cell_type": "code",
   "execution_count": 7,
   "outputs": [],
   "source": [],
   "metadata": {
    "collapsed": false,
    "pycharm": {
     "name": "#%%\n"
    }
   }
  }
 ],
 "metadata": {
  "kernelspec": {
   "display_name": "Python 3",
   "language": "python",
   "name": "python3"
  },
  "language_info": {
   "codemirror_mode": {
    "name": "ipython",
    "version": 3
   },
   "file_extension": ".py",
   "mimetype": "text/x-python",
   "name": "python",
   "nbconvert_exporter": "python",
   "pygments_lexer": "ipython3",
   "version": "3.6.13"
  }
 },
 "nbformat": 4,
 "nbformat_minor": 2
}